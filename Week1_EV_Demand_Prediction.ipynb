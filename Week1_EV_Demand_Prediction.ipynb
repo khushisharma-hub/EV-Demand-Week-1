{
 "cells": [
  {
   "cell_type": "markdown",
   "id": "45df83ed",
   "metadata": {},
   "source": [
    "# EV Charging Demand Prediction\n",
    "\n",
    "This notebook predicts EV charging demand using Linear Regression."
   ]
  },
  {
   "cell_type": "code",
   "execution_count": null,
   "id": "ac79f8f9",
   "metadata": {},
   "outputs": [],
   "source": [
    "import pandas as pd\n",
    "import numpy as np\n",
    "from sklearn.linear_model import LinearRegression\n",
    "from sklearn.model_selection import train_test_split\n",
    "from sklearn.metrics import mean_squared_error, r2_score\n",
    "import matplotlib.pyplot as plt"
   ]
  },
  {
   "cell_type": "code",
   "execution_count": null,
   "id": "8461918f",
   "metadata": {},
   "outputs": [],
   "source": [
    "# Synthetic dataset\n",
    "data = {\n",
    "    'hour_of_day': np.tile(np.arange(24), 10),\n",
    "    'temperature': np.random.normal(30, 5, 240),\n",
    "    'evs_charging': np.random.randint(5, 100, 240)\n",
    "}\n",
    "df = pd.DataFrame(data)\n",
    "df.head()"
   ]
  },
  {
   "cell_type": "code",
   "execution_count": null,
   "id": "35272083",
   "metadata": {},
   "outputs": [],
   "source": [
    "# Features and target\n",
    "X = df[['hour_of_day', 'temperature']]\n",
    "y = df['evs_charging']"
   ]
  },
  {
   "cell_type": "code",
   "execution_count": null,
   "id": "1c2e6dd6",
   "metadata": {},
   "outputs": [],
   "source": [
    "# Train-test split\n",
    "X_train, X_test, y_train, y_test = train_test_split(X, y, test_size=0.2, random_state=42)"
   ]
  },
  {
   "cell_type": "code",
   "execution_count": null,
   "id": "8afabde3",
   "metadata": {},
   "outputs": [],
   "source": [
    "# Model training\n",
    "model = LinearRegression()\n",
    "model.fit(X_train, y_train)"
   ]
  },
  {
   "cell_type": "code",
   "execution_count": null,
   "id": "f616c2aa",
   "metadata": {},
   "outputs": [],
   "source": [
    "# Predictions and Evaluation\n",
    "y_pred = model.predict(X_test)\n",
    "mse = mean_squared_error(y_test, y_pred)\n",
    "r2 = r2_score(y_test, y_pred)\n",
    "print(f\"MSE: {mse:.2f}, R2 Score: {r2:.4f}\")"
   ]
  },
  {
   "cell_type": "code",
   "execution_count": null,
   "id": "4ed43c99",
   "metadata": {},
   "outputs": [],
   "source": [
    "# Plotting results\n",
    "plt.scatter(y_test, y_pred)\n",
    "plt.xlabel('Actual EVs Charging')\n",
    "plt.ylabel('Predicted EVs Charging')\n",
    "plt.title('Actual vs Predicted')\n",
    "plt.grid(True)\n",
    "plt.show()"
   ]
  }
 ],
 "metadata": {},
 "nbformat": 4,
 "nbformat_minor": 5
}
